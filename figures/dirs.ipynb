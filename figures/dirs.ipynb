{
 "cells": [
  {
   "cell_type": "code",
   "execution_count": 1,
   "metadata": {},
   "outputs": [],
   "source": [
    "DB_DIR=\"../../databases/\""
   ]
  },
  {
   "cell_type": "code",
   "execution_count": 2,
   "metadata": {},
   "outputs": [],
   "source": [
    "SIM_DIR=\"../../output/cfspi/simulations/\"\n",
    "SIM_STATS_DIR=paste0(SIM_DIR, \"results/stats/\")\n",
    "SIM_K2_REP=paste0(SIM_DIR,\"results/kraken2_report/after_host_mapping/\")\n",
    "SIM_K2_OUT=paste0(SIM_DIR, \"results/kraken2_output/after_host_mapping/\")"
   ]
  },
  {
   "cell_type": "code",
   "execution_count": 3,
   "metadata": {},
   "outputs": [],
   "source": [
    "SPL_DIR=\"../../output/cfspi/samples/\"\n",
    "SPL_STATS_DIR=paste0(SPL_DIR, \"results/stats/\")\n",
    "SPL_K2_REP=paste0(SPL_DIR,\"results/kraken2_report/after_host_mapping/\")\n",
    "SPL_K2_OUT=paste0(SPL_DIR, \"results/kraken2_output/after_host_mapping/\") \n",
    "SPL_K2pb_REP=paste0(SPL_DIR, \"results/kraken2_standardDB_report/\") "
   ]
  },
  {
   "cell_type": "code",
   "execution_count": null,
   "metadata": {},
   "outputs": [],
   "source": [
    "SPL_Asp_map=\"../../output/mapAspergillus/\""
   ]
  },
  {
   "cell_type": "code",
   "execution_count": 13,
   "metadata": {},
   "outputs": [],
   "source": [
    "INT_database_stats=\"../../output/preprocessing/DBstats/\"\n",
    "INT_SPL=\"../../output/preprocessing/samples/\"\n",
    "INT_ReSeq=\"../../output/preprocessing/simulations/\"\n",
    "INT_LOSD=\"../../output/preprocessing/LoSD/\""
   ]
  },
  {
   "cell_type": "code",
   "execution_count": 1,
   "metadata": {},
   "outputs": [],
   "source": [
    "dbs <- c('RS_minusT2T','RS','EPRSFv46','EPRSFv46DM','EPRSc2','EPRSFv46MCAspDM','EPRSFv64','EPRSFv64DM','EPRSFv64MCAspDM')\n",
    "dbs_minT2T <- c('RS','EPRSFv46DM','EPRSc2','EPRSFv46MCAspDM','EPRSFv64DM','EPRSFv64MCAspDM')\n",
    "dbs_mut <- c('RS w/o CHM13v2','RS','EPRSFv46','EPRSFv46DM','EPRSc2','EPRSFv46MCAspDM','EPRSFv64','EPRSFv64DM','EPRSFv64MCAspDM')\n",
    "dbs_sel <- c('RS','EPRSc2','EPRSFv64MCAspDM')\n",
    "dbs_sel_min <- c('EPRSc2','EPRSFv64MCAspDM')\n",
    "\n",
    "dbs_decon = c('EPRSFv46DM','EPRSc2')\n",
    "dbs_aug = c('RS','EPRSFv46DM','EPRSFv46MCAspDM','EPRSFv64DM','EPRSFv64MCAspDM')"
   ]
  },
  {
   "cell_type": "code",
   "execution_count": null,
   "metadata": {},
   "outputs": [],
   "source": [
    "output_fig_suppl <- \"../../output/suppl_figures/\"\n",
    "output_fig <- \"../../output/figures/\""
   ]
  },
  {
   "cell_type": "code",
   "execution_count": 1,
   "metadata": {},
   "outputs": [],
   "source": [
    "Karius_AL <- \"../resources/Karius_Aspergillus_list.txt\""
   ]
  },
  {
   "cell_type": "code",
   "execution_count": 1,
   "metadata": {},
   "outputs": [],
   "source": [
    "fav_threshold=\"conf0.0\"\n",
    "wright_threshold=\"conf0.8\""
   ]
  },
  {
   "cell_type": "code",
   "execution_count": null,
   "metadata": {},
   "outputs": [],
   "source": []
  }
 ],
 "metadata": {
  "kernelspec": {
   "display_name": "R [conda env:r4.2.0]",
   "language": "R",
   "name": "conda-env-r4.2.0-r"
  },
  "language_info": {
   "codemirror_mode": "r",
   "file_extension": ".r",
   "mimetype": "text/x-r-source",
   "name": "R",
   "pygments_lexer": "r",
   "version": "4.2.3"
  }
 },
 "nbformat": 4,
 "nbformat_minor": 4
}
