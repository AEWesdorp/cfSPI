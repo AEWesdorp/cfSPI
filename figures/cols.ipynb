{
 "cells": [
  {
   "cell_type": "code",
   "execution_count": 4,
   "metadata": {},
   "outputs": [
    {
     "ename": "ERROR",
     "evalue": "Error in color(\"medium contrast\"): could not find function \"color\"\n",
     "output_type": "error",
     "traceback": [
      "Error in color(\"medium contrast\"): could not find function \"color\"\nTraceback:\n"
     ]
    }
   ],
   "source": [
    "mediumcontrast <- color(\"medium contrast\")\n",
    "colors_mc <- as.character(c(mediumcontrast(6),\"#a08c8e\", \"#608da2\"))\n",
    "reds=colorRampPalette(c(\"white\", colors_mc[5]))\n",
    "blues=colorRampPalette(c(colors_mc[6], \"white\"))\n",
    "browns=colorRampPalette(c(colors_mc[4], \"white\"))\n",
    "\n",
    "vibrant <- color(\"vibrant\")\n",
    "colors_vibrant <- as.character(vibrant(6))\n",
    "\n",
    "muted <- color(\"muted\")\n",
    "colors_mut <- as.character(muted(9))\n",
    "smooth_rainbow <- color(\"smooth rainbow\")"
   ]
  },
  {
   "cell_type": "code",
   "execution_count": 2,
   "metadata": {},
   "outputs": [
    {
     "ename": "ERROR",
     "evalue": "Error in plot_scheme(colors_mc, colours = TRUE, names = TRUE, size = 0.9): could not find function \"plot_scheme\"\n",
     "output_type": "error",
     "traceback": [
      "Error in plot_scheme(colors_mc, colours = TRUE, names = TRUE, size = 0.9): could not find function \"plot_scheme\"\nTraceback:\n"
     ]
    }
   ],
   "source": [
    "plot_scheme(colors_mc, colours = TRUE, names = TRUE, size = 0.9) "
   ]
  }
 ],
 "metadata": {
  "kernelspec": {
   "display_name": "R [conda env:r4.2.0]",
   "language": "R",
   "name": "conda-env-r4.2.0-r"
  },
  "language_info": {
   "codemirror_mode": "r",
   "file_extension": ".r",
   "mimetype": "text/x-r-source",
   "name": "R",
   "pygments_lexer": "r",
   "version": "4.2.3"
  }
 },
 "nbformat": 4,
 "nbformat_minor": 4
}
